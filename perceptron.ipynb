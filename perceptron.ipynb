{
 "cells": [
  {
   "cell_type": "code",
   "execution_count": 2,
   "metadata": {},
   "outputs": [],
   "source": [
    "import os\n",
    "import numpy as np\n",
    "import matplotlib.pyplot as plt\n",
    "\n",
    "FOLDER_PATH = './images-numbers/2'\n",
    "ANOTHER_FOLDER_PATH = './images-numbers/5'"
   ]
  },
  {
   "cell_type": "code",
   "execution_count": 3,
   "metadata": {},
   "outputs": [],
   "source": [
    "# Leemos todos los archivos de la carpeta images-numbers/2 y los listamos\n",
    "def list_images(path=FOLDER_PATH):\n",
    "  images = []\n",
    "  for filename in os.listdir(path):\n",
    "      if filename.endswith('.png'):\n",
    "          images.append(filename)\n",
    "  return images\n",
    "\n",
    "def sum_image(image, path=FOLDER_PATH):\n",
    "  # Leemos la imagen\n",
    "  img = plt.imread(path + '/' + image)\n",
    "  # Sumamos todos los valores de la imagen\n",
    "  return np.sum(img)\n",
    "\n",
    "def graph_sample():\n",
    "  # Listamos las imágenes\n",
    "  images = list_images()\n",
    "  # Sumamos los valores de las imágenes\n",
    "  sums = [sum_image(image) for image in images]\n",
    "  # Obtenemos el promedio de los valores\n",
    "  mean = np.mean(sums)\n",
    "  # Graficamos el promedio\n",
    "  plt.axhline(y=mean, color='r', linestyle='-')\n",
    "  # Graficamos los valores\n",
    "  plt.plot(sums)\n",
    "  plt.show()"
   ]
  },
  {
   "cell_type": "code",
   "execution_count": 4,
   "metadata": {},
   "outputs": [],
   "source": [
    "def perceptron(vectors, pre_umbral):\n",
    "  # sumamos el vector\n",
    "  suma = [np.sum(vector) for vector in vectors]\n",
    "  umbral = np.mean(suma)\n",
    "  return (umbral+pre_umbral)/2\n",
    "\n",
    "def predict(image, h, path=FOLDER_PATH):\n",
    "  # Leemos la imagen\n",
    "  img = plt.imread(path + '/' + image)\n",
    "  # Sumamos los valores de la imagen en cada fila\n",
    "  suma = [np.sum(row) for row in img]\n",
    "  # Comparamos el umbral con el valor de la suma\n",
    "  result = np.array(suma) > h\n",
    "  # Contamos cuantos valores son mayores al umbral\n",
    "  count = np.sum(result)\n",
    "  # Si más de la mitad de los valores son mayores al umbral\n",
    "  # entonces la imagen es un 2\n",
    "  return count > len(result) / 2"
   ]
  },
  {
   "cell_type": "code",
   "execution_count": 17,
   "metadata": {},
   "outputs": [],
   "source": [
    "def train(weight = 288, epochs = 2, learning_rate = 0.7):\n",
    "  # Listamos las imágenes\n",
    "  images = list_images()\n",
    "  # Genermos un vector h con los umbrales para cada fila de las imágenes\n",
    "  h = np.zeros(weight)\n",
    "  \n",
    "  for i in range(weight):\n",
    "    # Obtenemos la primer fila de las imagenes\n",
    "    vectors = [plt.imread(FOLDER_PATH + '/' + image)[i] for image in images]\n",
    "    # calculamos el umbral para cada fila de las imagenes\n",
    "    for vector in vectors:\n",
    "      h[i] = perceptron(vectors, h[i])\n",
    "  \n",
    "  \"\"\" for epoch in range(epochs):\n",
    "    for i in range(weight):\n",
    "      # Obtenemos la primer fila de las imagenes\n",
    "      vectors = [plt.imread(FOLDER_PATH + '/' + image)[i] for image in images]\n",
    "      # calculamos el umbral para cada fila de las imagenes\n",
    "      suma = [np.sum(vector) for vector in vectors]\n",
    "      # Calculamos el error\n",
    "      error = np.array(suma) - h[i]\n",
    "      h[i] = h[i] + learning_rate * np.sum(error) \"\"\"\n",
    "\n",
    "  return h\n",
    "\n",
    "\n",
    "h = train()"
   ]
  },
  {
   "cell_type": "code",
   "execution_count": 18,
   "metadata": {},
   "outputs": [
    {
     "name": "stdout",
     "output_type": "stream",
     "text": [
      "Imagenes correctas de 2: 28\n",
      "Imagenes correctas de 5: 11\n",
      "Total imagenes en un set: 100\n"
     ]
    },
    {
     "data": {
      "image/png": "[encoded data removed]",
      "text/plain": [
       "<Figure size 640x480 with 1 Axes>"
      ]
     },
     "metadata": {},
     "output_type": "display_data"
    }
   ],
   "source": [
    "# Listamos las imágenes\n",
    "images = list_images()\n",
    "images_5 = list_images(ANOTHER_FOLDER_PATH)\n",
    "total = len(images)\n",
    "\n",
    "predictions = []\n",
    "predictions_5 = []\n",
    "\n",
    "# Predecimos si las imágenes son 2 o no\n",
    "for image in images:\n",
    "  predictions.append(predict(image, h))\n",
    "\n",
    "for image in images_5:\n",
    "  predictions_5.append(predict(image, h, ANOTHER_FOLDER_PATH))\n",
    "\n",
    "# Hacemos un conteo de imagenes\n",
    "count = np.sum(predictions)\n",
    "count_5 = np.sum(predictions_5)\n",
    "\n",
    "print('Imagenes correctas de 2:', count)\n",
    "print('Imagenes correctas de 5:', count_5)\n",
    "print('Total imagenes en un set:', total)\n",
    "\n",
    "# Hacemos un grafico de barras\n",
    "plt.bar(['2', '5'], [count, count_5])\n",
    "plt.bar(['2', '5'], [total-count, total-count], alpha=0.5, bottom=[count, count_5])\n",
    "plt.legend(['Correctas', 'Total'])\n",
    "plt.show()\n",
    "\n"
   ]
  }
 ],
 "metadata": {
  "kernelspec": {
   "display_name": "Python 3",
   "language": "python",
   "name": "python3"
  },
  "language_info": {
   "codemirror_mode": {
    "name": "ipython",
    "version": 3
   },
   "file_extension": ".py",
   "mimetype": "text/x-python",
   "name": "python",
   "nbconvert_exporter": "python",
   "pygments_lexer": "ipython3",
   "version": "3.11.4"
  }
 },
 "nbformat": 4,
 "nbformat_minor": 2
}
