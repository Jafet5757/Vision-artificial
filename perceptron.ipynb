{
 "cells": [
  {
   "cell_type": "code",
   "execution_count": 11,
   "metadata": {},
   "outputs": [],
   "source": [
    "import os\n",
    "import numpy as np\n",
    "import matplotlib.pyplot as plt\n",
    "\n",
    "FOLDER_PATH = './images-numbers/number-cls/2'\n",
    "ANOTHER_FOLDER_PATH = './images-numbers/number-cls/8'"
   ]
  },
  {
   "cell_type": "code",
   "execution_count": 12,
   "metadata": {},
   "outputs": [],
   "source": [
    "# Leemos todos los archivos de la carpeta images-numbers/2 y los listamos\n",
    "def list_images(path=FOLDER_PATH):\n",
    "  images = []\n",
    "  for filename in os.listdir(path):\n",
    "      if filename.endswith('.bmp'):\n",
    "          images.append(filename)\n",
    "  return images\n",
    "\n",
    "def sum_image(image, path=FOLDER_PATH):\n",
    "  # Leemos la imagen\n",
    "  img = plt.imread(path + '/' + image)\n",
    "  # Sumamos todos los valores de la imagen\n",
    "  return np.sum(img)\n",
    "\n",
    "def graph_sample():\n",
    "  # Listamos las imágenes\n",
    "  images = list_images()\n",
    "  # Sumamos los valores de las imágenes\n",
    "  sums = [sum_image(image) for image in images]\n",
    "  # Obtenemos el promedio de los valores\n",
    "  mean = np.mean(sums)\n",
    "  # Graficamos el promedio\n",
    "  plt.axhline(y=mean, color='r', linestyle='-')\n",
    "  # Graficamos los valores\n",
    "  plt.plot(sums)\n",
    "  plt.show()"
   ]
  },
  {
   "cell_type": "code",
   "execution_count": 13,
   "metadata": {},
   "outputs": [],
   "source": [
    "def perceptron(vectors, pre_umbral):\n",
    "  # sumamos el vector\n",
    "  suma = [np.sum(vector) for vector in vectors]\n",
    "  umbral = np.mean(suma)\n",
    "  return (umbral+pre_umbral)/2\n",
    "\n",
    "def predict(image, h, path=FOLDER_PATH):\n",
    "  # Leemos la imagen\n",
    "  img = plt.imread(path + '/' + image)\n",
    "  # Sumamos los valores de la imagen en cada fila\n",
    "  suma = [np.sum(row) for row in img]\n",
    "  # Comparamos el umbral con el valor de la suma\n",
    "  result = np.array(suma) > h\n",
    "  # Contamos cuantos valores son mayores al umbral\n",
    "  count = np.sum(result)\n",
    "  # Si más de la mitad de los valores son mayores al umbral\n",
    "  # entonces la imagen es un 2\n",
    "  return count > len(result) / 2"
   ]
  },
  {
   "cell_type": "code",
   "execution_count": 15,
   "metadata": {},
   "outputs": [],
   "source": [
    "def train(weight = 64, epochs = 2, learning_rate = 0.7):\n",
    "  # Listamos las imágenes\n",
    "  images = list_images()\n",
    "  # Genermos un vector h con los umbrales para cada fila de las imágenes\n",
    "  h = np.zeros(weight)\n",
    "  \n",
    "  for i in range(weight):\n",
    "    # Obtenemos la primer fila de las imagenes\n",
    "    vectors = [plt.imread(FOLDER_PATH + '/' + image)[i] for image in images]\n",
    "    # calculamos el umbral para cada fila de las imagenes\n",
    "    for vector in vectors:\n",
    "      h[i] = perceptron(vectors, h[i])\n",
    "  \n",
    "  \"\"\" for epoch in range(epochs):\n",
    "    for i in range(weight):\n",
    "      # Obtenemos la primer fila de las imagenes\n",
    "      vectors = [plt.imread(FOLDER_PATH + '/' + image)[i] for image in images]\n",
    "      # calculamos el umbral para cada fila de las imagenes\n",
    "      suma = [np.sum(vector) for vector in vectors]\n",
    "      # Calculamos el error\n",
    "      error = np.array(suma) - h[i]\n",
    "      h[i] = h[i] + learning_rate * np.sum(error) \"\"\"\n",
    "\n",
    "  return h\n",
    "\n",
    "\n",
    "h = train()"
   ]
  },
  {
   "cell_type": "code",
   "execution_count": 16,
   "metadata": {},
   "outputs": [
    {
     "name": "stdout",
     "output_type": "stream",
     "text": [
      "['0.bmp', '1.bmp', '10.bmp', '100.bmp', '101.bmp', '102.bmp', '103.bmp', '104.bmp', '105.bmp', '106.bmp', '107.bmp', '108.bmp', '109.bmp', '11.bmp', '110.bmp', '111.bmp', '112.bmp', '113.bmp', '114.bmp', '115.bmp', '116.bmp', '117.bmp', '118.bmp', '119.bmp', '12.bmp', '13.bmp', '14.bmp', '15.bmp', '16.bmp', '17.bmp', '18.bmp', '19.bmp', '2.bmp', '20.bmp', '21.bmp', '22.bmp', '23.bmp', '24.bmp', '25.bmp', '26.bmp', '27.bmp', '28.bmp', '29.bmp', '3.bmp', '30.bmp', '31.bmp', '32.bmp', '33.bmp', '34.bmp', '35.bmp', '36.bmp', '37.bmp', '38.bmp', '39.bmp', '4.bmp', '40.bmp', '41.bmp', '42.bmp', '43.bmp', '44.bmp', '45.bmp', '46.bmp', '47.bmp', '48.bmp', '49.bmp', '5.bmp', '50.bmp', '51.bmp', '52.bmp', '53.bmp', '54.bmp', '55.bmp', '56.bmp', '57.bmp', '58.bmp', '59.bmp', '6.bmp', '60.bmp', '61.bmp', '62.bmp', '63.bmp', '64.bmp', '65.bmp', '66.bmp', '67.bmp', '68.bmp', '69.bmp', '7.bmp', '70.bmp', '71.bmp', '72.bmp', '73.bmp', '74.bmp', '75.bmp', '76.bmp', '77.bmp', '78.bmp', '79.bmp', '8.bmp', '80.bmp', '81.bmp', '82.bmp', '83.bmp', '84.bmp', '85.bmp', '86.bmp', '87.bmp', '88.bmp', '89.bmp', '9.bmp', '90.bmp', '91.bmp', '92.bmp', '93.bmp', '94.bmp', '95.bmp', '96.bmp', '97.bmp', '98.bmp', '99.bmp']\n",
      "Imagenes correctas de 2: 106\n",
      "Imagenes correctas de 8: 0\n",
      "Total imagenes en un set: 120\n"
     ]
    },
    {
     "data": {
      "image/png": "[encoded data removed]",
      "text/plain": [
       "<Figure size 640x480 with 1 Axes>"
      ]
     },
     "metadata": {},
     "output_type": "display_data"
    }
   ],
   "source": [
    "# Listamos las imágenes\n",
    "images = list_images()\n",
    "images_5 = list_images(ANOTHER_FOLDER_PATH)\n",
    "total = len(images)\n",
    "\n",
    "predictions = []\n",
    "predictions_8 = []\n",
    "\n",
    "# Predecimos si las imágenes son 2 o no\n",
    "for image in images:\n",
    "  predictions.append(predict(image, h))\n",
    "\n",
    "for image in images_5:\n",
    "  predictions_8.append(predict(image, h, ANOTHER_FOLDER_PATH))\n",
    "\n",
    "# Hacemos un conteo de imagenes\n",
    "count = np.sum(predictions)\n",
    "count_8 = np.sum(predictions_8)\n",
    "\n",
    "print('Imagenes correctas de 2:', count)\n",
    "print('Imagenes correctas de 8:', count_8)\n",
    "print('Total imagenes en un set:', total)\n",
    "\n",
    "# Hacemos un grafico de barras\n",
    "plt.bar(['2', '8'], [count, count_8])\n",
    "plt.bar(['2', '8'], [total-count, total-count_8], alpha=0.5, bottom=[count, count_8])\n",
    "plt.legend(['Correctas', 'Total'])\n",
    "plt.show()\n",
    "\n"
   ]
  }
 ],
 "metadata": {
  "kernelspec": {
   "display_name": "Python 3",
   "language": "python",
   "name": "python3"
  },
  "language_info": {
   "codemirror_mode": {
    "name": "ipython",
    "version": 3
   },
   "file_extension": ".py",
   "mimetype": "text/x-python",
   "name": "python",
   "nbconvert_exporter": "python",
   "pygments_lexer": "ipython3",
   "version": "3.11.4"
  }
 },
 "nbformat": 4,
 "nbformat_minor": 2
}
